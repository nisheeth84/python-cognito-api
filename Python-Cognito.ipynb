{
 "cells": [
  {
   "cell_type": "markdown",
   "metadata": {},
   "source": [
    "# Python Example Interacting with AWS Cognito and API Gateway\n",
    "\n",
    "This purpose of this notebook is to provide some working examples of an Python client signing up, confirming signup and login operations using Boto3 and the Cognito client.\n",
    "\n",
    "This notebook goes along with a blog post that can be found TBD"
   ]
  },
  {
   "cell_type": "code",
   "execution_count": 49,
   "metadata": {},
   "outputs": [],
   "source": [
    "from dotenv import load_dotenv\n",
    "import boto3\n",
    "import boto3\n",
    "import botocore.exceptions\n",
    "import hmac\n",
    "import hashlib\n",
    "import base64\n",
    "import json\n",
    "import os\n",
    "from jose import jwt\n",
    "import requests\n",
    "from pprint import pprint"
   ]
  },
  {
   "cell_type": "markdown",
   "metadata": {},
   "source": [
    "Create a file called ```.env``` in the same directory as this Jupyter notebook.\n",
    "\n",
    "All sensitive data is kept in a ```.env``` file that looks like the following:\n",
    "\n",
    "```\n",
    "# cognito pool creds - NEVER COMMIT THIS FILE\n",
    "USER_POOL_ID=us-east-1_XE ... tK\n",
    "CLIENT_ID=3v0 ... 8hlh5\n",
    "CLIENT_SECRET=19f3t ... er2f5ojg19\n",
    "EMAIL=you@somewhere.com\n",
    "PASSWORD=yourfavpassword\n",
    "AWS_PROFILE=profile name to access AWS\n",
    "AWS_API_GATEWAY_URL=https://abcdefghij.execute-api.us-east-1.amazonaws.com/stage/resource\n",
    "```"
   ]
  },
  {
   "cell_type": "code",
   "execution_count": 56,
   "metadata": {},
   "outputs": [
    {
     "data": {
      "text/plain": [
       "True"
      ]
     },
     "execution_count": 56,
     "metadata": {},
     "output_type": "execute_result"
    }
   ],
   "source": [
    "load_dotenv(override=True)"
   ]
  },
  {
   "cell_type": "code",
   "execution_count": 57,
   "metadata": {},
   "outputs": [],
   "source": [
    "email = os.getenv('EMAIL')\n",
    "password = os.getenv('PASSWORD')\n",
    "aws_profile_name=os.getenv('AWS_PROFILE')"
   ]
  },
  {
   "cell_type": "markdown",
   "metadata": {},
   "source": [
    "### Decode and Verify Cognito Token\n",
    "\n",
    "To decode and verify that the token is valid, use the Jose JWT Python library.\n",
    "\n",
    "In addition you need the JWKS keys which can be found at:\n",
    "\n",
    "```\n",
    "https://cognito-idp.{REGION}.amazonaws.com/{USER POOL ID}/.well-known/jwks.json\n",
    "```\n",
    "\n"
   ]
  },
  {
   "cell_type": "code",
   "execution_count": 52,
   "metadata": {},
   "outputs": [],
   "source": [
    "def decode_verify_token(token):\n",
    "    \"\"\"\n",
    "    {\n",
    "       \"keys\":[\n",
    "          {\n",
    "             \"alg\":\"RS256\",\n",
    "             \"e\":\"AQAB\",\n",
    "             \"kid\":\"hmlIi0ie4TJZKVbGCbWV20w1qqsNPyjoFhau1MfS+i4=\",\n",
    "             \"kty\":\"RSA\",\n",
    "             \"n\":\"2IASx_zrg9cIuj1I4LblmQLGHfnNWSManTbvMXjp9_LI6X5fyv2pjLHsOAjga_vX3776JkSDx5Fv6IoSWWlrwytSlb57y-0GCvox0mK_KEczFzBVJUOhJiHmZKhTcMwf2NSU4yJ6srzuoKnSuq1q3kLzKgRSOQWIUycufvmhqaVu92Jr0vCklTKu2qgD7j1WmRYN9m0dylYpaI2Vybol8zaCcP3ft_eW-S_W9e0IjKOmH-KZ6_NHJCtfo92KgrBYC7W0kcBsXJymmarXVuvPwxY33-Mz7tTnVJHuKJsNhQWe8615G6VyOxYHRir1tn0p6Bl6Y3jnw8pitJGINjL2pw\",\n",
    "             \"use\":\"sig\"\n",
    "          },\n",
    "          {\n",
    "             \"alg\":\"RS256\",\n",
    "             \"e\":\"AQAB\",\n",
    "             \"kid\":\"osr5Yj3xOSkxzHx4P9uDT7kYq0T92OUruEkimanAHec=\",\n",
    "             \"kty\":\"RSA\",\n",
    "             \"n\":\"qwAyACmQZ_mece3vKnte6p3BTeOvmq47F1JjNtfV7pbQyJxvFycDt5l0CDGqBoFwm3bIU-nweXFJ_dCVFiJ3M_nGm4OcBqKp16tzhQy6Twc-x1tcabmfCT2Vb1GCOnlW3dJdRY3SuHq-wHboHyPg18e4y4qZ8bC0qBRMdc5MWdUC2EuHYds7s9FZES7ECMfNpFhYq5LLG_DqxPArgl1d86M4xviJVr_0CBZJZ3sMWosxZOWpJpEEkjbrPTYHtYIgOM3jy5kknj1G8I_tz_qzzkYk1NCXODgGiLtnAqOAh1v8E7t5OM5SSTlHI42CxJY5ClJayCBpyLCszEy312Taow\",\n",
    "             \"use\":\"sig\"\n",
    "          }\n",
    "       ]\n",
    "    }\n",
    "    \"\"\"\n",
    "    # build the URL where the public keys are\n",
    "    jwks_url = 'https://cognito-idp.{}.amazonaws.com/{}/.well-known/jwks.json'.format(\n",
    "                        'us-east-1',\n",
    "                        os.getenv('USER_POOL_ID'))\n",
    "    # get the keys\n",
    "    jwks = requests.get(jwks_url).json()\n",
    "    decoded_token = jwt.decode(token, key=jwks, options={'verify_aud':False, 'verify_signature':False})\n",
    "#     pprint(decoded_token)\n",
    "    return decoded_token\n"
   ]
  },
  {
   "cell_type": "markdown",
   "metadata": {},
   "source": [
    "### Secret Hash\n",
    "\n",
    "When creating a python client, you need to create the client secret which is then used in the secret hash.  The calculation of that is described in this document:\n",
    "\n",
    "```\n",
    "https://docs.aws.amazon.com/cognito/latest/developerguide/signing-up-users-in-your-app.html\n",
    "```\n",
    "\n",
    "and an implementation is below."
   ]
  },
  {
   "cell_type": "code",
   "execution_count": 53,
   "metadata": {},
   "outputs": [],
   "source": [
    "def get_secret_hash(username, cognito_client_id, cognito_secret):\n",
    "    msg = username + cognito_client_id\n",
    "    dig = hmac.new(str(cognito_secret).encode('utf-8'), \n",
    "        msg = str(msg).encode('utf-8'), digestmod=hashlib.sha256).digest()\n",
    "    d2 = base64.b64encode(dig).decode()\n",
    "    return d2"
   ]
  },
  {
   "cell_type": "markdown",
   "metadata": {},
   "source": [
    "### Coginto Helper Functions\n",
    "\n",
    "Below are some helper functions used to signup, confirm, and login a user based on an email address and password.\n"
   ]
  },
  {
   "cell_type": "code",
   "execution_count": 71,
   "metadata": {},
   "outputs": [],
   "source": [
    "def cognito_signup(email, password, name, favorite_band):\n",
    "    \"\"\"\n",
    "    GOTCHA:  Since we are using the email address as the username, according to this S.O.\n",
    "        https://stackoverflow.com/questions/54430978/unable-to-verify-secret-hash-for-client-at-refresh-token-auth\n",
    "        \n",
    "    when you have an \"@\" in the username you cannot use the email address for REFRESH_TOKEN_AUTH.  Cognito\n",
    "    generates a UUID-style username for those users.  When creating the secret hash for the REFRESH_TOKEN_AUTH\n",
    "    you have to use the Cognito generated username.\n",
    "    \n",
    "    \"\"\"\n",
    "    session = boto3.Session(profile_name=aws_profile_name)\n",
    "    client = session.client('cognito-idp')\n",
    "    \n",
    "    try:\n",
    "        resp = client.sign_up(\n",
    "            ClientId = os.getenv('CLIENT_ID'),\n",
    "            SecretHash=get_secret_hash(email, os.getenv('CLIENT_ID'), os.getenv('CLIENT_SECRET')),\n",
    "            Username=email,\n",
    "            Password=password,\n",
    "            UserAttributes=[\n",
    "                {\n",
    "                    \"Name\": \"custom:favorite_band\",\n",
    "                    \"Value\": favorite_band\n",
    "                },\n",
    "                {\n",
    "                    \"Name\":\"name\",\n",
    "                    \"Value\":name\n",
    "                }\n",
    "            ]\n",
    "            \n",
    "        )\n",
    "        \n",
    "    except client.exceptions.UsernameExistsException as e:\n",
    "        return {\n",
    "               \"success\": False, \n",
    "               \"message\": \"This username already exists\", \n",
    "               \"data\": None}\n",
    "    except client.exceptions.InvalidPasswordException as e:\n",
    "        \n",
    "        return {\n",
    "               \"success\": False, \n",
    "               \"message\": \"Password should have Caps,\\\n",
    "                          Special chars, Numbers\", \n",
    "               \"data\": None}\n",
    "    except client.exceptions.UserLambdaValidationException as e:\n",
    "        return {\n",
    "               \"success\": False, \n",
    "               \"message\": \"Email already exists\", \n",
    "               \"data\": None}\n",
    "    \n",
    "    except Exception as e:\n",
    "        return {\n",
    "                \"success\": False, \n",
    "                \"message\": str(e), \n",
    "               \"data\": None}\n",
    "    \n",
    "    return {\n",
    "            \"success\": True, \n",
    "            \"message\": \"Please confirm your signup, \\\n",
    "                        check Email for validation code\", \n",
    "            \"data\": None}\n",
    "\n",
    "def cognito_confirm_signup(email, code):\n",
    "    session = boto3.Session(profile_name=aws_profile_name)\n",
    "    client = session.client('cognito-idp')\n",
    "    \n",
    "    try:\n",
    "        resp = client.confirm_sign_up(\n",
    "            ClientId = os.getenv('CLIENT_ID'),\n",
    "            SecretHash=get_secret_hash(email, os.getenv('CLIENT_ID'), os.getenv('CLIENT_SECRET')),\n",
    "            Username=email,\n",
    "            ConfirmationCode=code,\n",
    "            ForceAliasCreation=False\n",
    "            \n",
    "        )\n",
    "\n",
    "        return {\"success\": True, \"message\": f\"Signup confirmed for user: {email}\", \"response\": resp}\n",
    "\n",
    "    except client.exceptions.UserNotFoundException:\n",
    "        return {\"success\": False, \"message\": \"Username doesnt exists\"}\n",
    "    except client.exceptions.CodeMismatchException:\n",
    "        return {\"success\": False, \"message\": \"Invalid Verification code\"}\n",
    "    except client.exceptions.NotAuthorizedException:\n",
    "        return {\"success\": False, \"message\": \"User is already confirmed\"}\n",
    "    except Exception as e:\n",
    "        return {\"success\": False, \"message\": f\"Unknown error {e.__str__()} \"}\n",
    "    \n",
    "\n",
    "def cognito_login(email, password):\n",
    "    session = boto3.Session(profile_name=aws_profile_name)\n",
    "    client = session.client('cognito-idp')\n",
    "\n",
    "    try:\n",
    "        resp=client.initiate_auth(\n",
    "                 ClientId=os.getenv('CLIENT_ID'),\n",
    "                 AuthFlow='USER_PASSWORD_AUTH',\n",
    "                 AuthParameters={\n",
    "                     'USERNAME': email,\n",
    "                     'SECRET_HASH': get_secret_hash(email, os.getenv('CLIENT_ID'), os.getenv('CLIENT_SECRET')),\n",
    "                     'PASSWORD': password,\n",
    "                  })\n",
    "\n",
    "        return resp\n",
    "    \n",
    "    except client.exceptions.NotAuthorizedException:\n",
    "        return None, \"The username or password is incorrect\"\n",
    "    except client.exceptions.UserNotConfirmedException:\n",
    "        return None, \"User is not confirmed\"\n",
    "    except Exception as e:\n",
    "        return None, e.__str__()\n",
    "\n",
    "\n",
    "def cognito_refresh_token(original_token, refresh_token):\n",
    "    \"\"\"\n",
    "    GOTCHA:  Since we are using the email address as the username, according to this S.O.\n",
    "        https://stackoverflow.com/questions/54430978/unable-to-verify-secret-hash-for-client-at-refresh-token-auth\n",
    "        \n",
    "    when you have an \"@\" in the username you cannot use the email address for REFRESH_TOKEN_AUTH.  Cognito\n",
    "    generates a UUID-style username for those users.  When creating the secret hash for the REFRESH_TOKEN_AUTH\n",
    "    you have to use the Cognito generated username.\n",
    "    \n",
    "    \"\"\"\n",
    "\n",
    "\n",
    "    session = boto3.Session(profile_name=aws_profile_name)\n",
    "    client = session.client('cognito-idp')\n",
    "    \n",
    "\n",
    "    try:\n",
    "        decoded_token = jwt.get_unverified_claims(original_token)\n",
    "        print(decoded_token)\n",
    "        cognito_username = decoded_token['cognito:username']\n",
    "        print(cognito_username)\n",
    "    \n",
    "        resp=client.initiate_auth(\n",
    "                 ClientId=os.getenv('CLIENT_ID'),\n",
    "                 AuthFlow='REFRESH_TOKEN_AUTH',\n",
    "                 AuthParameters={\n",
    "                     'REFRESH_TOKEN': refresh_token,\n",
    "                     'SECRET_HASH': get_secret_hash(cognito_username, os.getenv('CLIENT_ID'), os.getenv('CLIENT_SECRET'))\n",
    "                  }\n",
    "            )\n",
    "\n",
    "        return resp\n",
    "    \n",
    "    except client.exceptions.NotAuthorizedException as e:\n",
    "        return None, \"Not Authorized: \" + e.__str__()\n",
    "    except client.exceptions.UserNotConfirmedException:\n",
    "        return None, \"User is not confirmed\"\n",
    "    except Exception as e:\n",
    "        return None, e.__str__()\n",
    "\n",
    "\n",
    "    "
   ]
  },
  {
   "cell_type": "code",
   "execution_count": 58,
   "metadata": {},
   "outputs": [
    {
     "data": {
      "text/plain": [
       "{'success': True,\n",
       " 'message': 'Please confirm your signup,                         check Email for validation code',\n",
       " 'data': None}"
      ]
     },
     "execution_count": 58,
     "metadata": {},
     "output_type": "execute_result"
    }
   ],
   "source": [
    "cognito_signup(email, password, \"Aunt Bea\", \"Lawerence Welk\")"
   ]
  },
  {
   "cell_type": "markdown",
   "metadata": {},
   "source": [
    "After the call to signup, you should receive an email at the address you provided above with a confirmation code.  Type that code below to confirm the signup."
   ]
  },
  {
   "cell_type": "code",
   "execution_count": 59,
   "metadata": {},
   "outputs": [
    {
     "data": {
      "text/plain": [
       "{'success': True,\n",
       " 'message': 'Signup confirmed for user: aunt.bea@contbay.com',\n",
       " 'response': {'ResponseMetadata': {'RequestId': '53a67b71-d3c8-4c47-8ca0-5b269db168bd',\n",
       "   'HTTPStatusCode': 200,\n",
       "   'HTTPHeaders': {'date': 'Thu, 12 Mar 2020 01:38:40 GMT',\n",
       "    'content-type': 'application/x-amz-json-1.1',\n",
       "    'content-length': '2',\n",
       "    'connection': 'keep-alive',\n",
       "    'x-amzn-requestid': '53a67b71-d3c8-4c47-8ca0-5b269db168bd'},\n",
       "   'RetryAttempts': 0}}}"
      ]
     },
     "execution_count": 59,
     "metadata": {},
     "output_type": "execute_result"
    }
   ],
   "source": [
    "cognito_confirm_signup(email, '013037')"
   ]
  },
  {
   "cell_type": "markdown",
   "metadata": {},
   "source": [
    "## Login Example"
   ]
  },
  {
   "cell_type": "markdown",
   "metadata": {},
   "source": [
    "<b>NOTE</b>\n",
    "\n",
    "To allow for username/password login you have to enable username password login.\n",
    "\n",
    "User Pool -> General Settings -> App clients -> Show Details -> Enable username password based authentication (ALLOW_USER_PASSWORD_AUTH)"
   ]
  },
  {
   "cell_type": "code",
   "execution_count": 60,
   "metadata": {},
   "outputs": [],
   "source": [
    "login_response = cognito_login(email, password)"
   ]
  },
  {
   "cell_type": "code",
   "execution_count": 61,
   "metadata": {},
   "outputs": [
    {
     "data": {
      "text/plain": [
       "{'ChallengeParameters': {},\n",
       " 'AuthenticationResult': {'AccessToken': 'eyJraWQiOiJvc3I1WWozeE9Ta3h6SHg0UDl1RFQ3a1lxMFQ5Mk9VcnVFa2ltYW5BSGVjPSIsImFsZyI6IlJTMjU2In0.eyJzdWIiOiJlZTBiZWRjZi0zYWQ4LTQ0MmEtOGFhYS0wMTU1NzBkYzk1N2UiLCJldmVudF9pZCI6IjMyMjk3N2M5LWUxYTMtNGZmOS1hYjYxLTk3ZWE4MGRkOTUwNCIsInRva2VuX3VzZSI6ImFjY2VzcyIsInNjb3BlIjoiYXdzLmNvZ25pdG8uc2lnbmluLnVzZXIuYWRtaW4iLCJhdXRoX3RpbWUiOjE1ODM5NzcxNDMsImlzcyI6Imh0dHBzOlwvXC9jb2duaXRvLWlkcC51cy1lYXN0LTEuYW1hem9uYXdzLmNvbVwvdXMtZWFzdC0xX1hFdTRjVnZ0SyIsImV4cCI6MTU4Mzk4MDc0MywiaWF0IjoxNTgzOTc3MTQzLCJqdGkiOiJiNTBjYTcwYy03NTczLTQzNzQtOTgyOC0yYjdlZTFmYzc2N2UiLCJjbGllbnRfaWQiOiIzdjBlMzc3dDF2dDY5amNycWVvNTg4aGxoNSIsInVzZXJuYW1lIjoiZWUwYmVkY2YtM2FkOC00NDJhLThhYWEtMDE1NTcwZGM5NTdlIn0.JXKMBVpr3RUaRWwTx2OzxOa0oygfj7mEX7HRDnjwQAZM0sz1xupZSQbRlzAjKyZcxRBohecHYE6yXzPCeSxwf_yMMPLoKxTV0weSsJRCk07gP-B9PMpoIzesDv-0utEIkqGbalV7QlIKKKGg9bgPUihu6OP7ppg_Xv5HA1h_pTIwOtXKDRY3VEDU1cEloBjpQHg0Rwyjbnp2n_x5V2IU-2BgYA1qp9gkydyJPHHiiXsSL0oQtvqNxwIPgkXznjHRe_RaBgZJGmnEmyCzT7WTp52T_0IAqrY5DR5F-PfnchCHkgEaaGAu_KbQTfQgj-MvBh-T6gTpTnlNpvzGI5QVAQ',\n",
       "  'ExpiresIn': 3600,\n",
       "  'TokenType': 'Bearer',\n",
       "  'RefreshToken': 'eyJjdHkiOiJKV1QiLCJlbmMiOiJBMjU2R0NNIiwiYWxnIjoiUlNBLU9BRVAifQ.GPlhVJgRzmkNd3TY9ALl5nka98XnTnEzbPnDvVo95L0t4obnH9dse1ADVxCoLLL2H9IplzZkNZ3D1dAzRknzXcGsBYbPGKG4lfnJxuK8fHOrgyXnRIOZy3PgF5-sbDB4GpHTwkNJfHseWHNcrifqg14pjacTvb5p5EW8DHAfvOXWTAHavJk2H9z_uSlLY6udvhl2csTkkWbOrkoAc5njBa80RcNJmiqQoKt9kMtDmitb9eEbR_mtJOYJOOL3Yw9YQ7LVAyhbvuBvUWOvgzqwgAIXXXHzErlXpJMdzS2IPlYyAu6KV8zB8rIt-zRUYpzN5m83wjVE3BfdCVXqF78OQA.8VgwM-mC-WFiCvsn.Gg3ZHge_zKuhD_9BOklUSJY2DFmMcWxHIQQKYfN_NxmC64fLaw6_VT944np3rHTfV_nGrnvmwr28le5W-3qkSO9DPbmm6icptcC2e13bSYd7WRoeOT5xOdCITgyyNvoWJqtwfJv581YfNR8E5hU25T-nBqMv0mQen_h-3I0Crz0rIHT2tRt1NlDEelpSpSXUETrL20hjO-ulZl4u-hxHG_QFG3HO3nnFt124E9nvmIQLtB0mkREFzabmZVl4UkUs_c1qcpRSoab9X_NjVolxz9iypTFMuW9l9bDhG4jfC9pmrP-Gl95adco566OqgTiqoX46MPizQQ8co6TQcgCz8I4_2wKuaEi3iVhwmZxOfwI40Abgo9QcdKHwRjCDktW-J063TJg6UYVsiw0F1Da2XBexoHLZrFQ2Xy4dh90bn2PnASu7R49NbkFIH3_MEy8QitF9CfTQ-MWXMZUXcc9aPxR3dWi3G4eb-NJfeBH_SHkc2oVz2CrLgqgWHCCDngRMcn--d4nMewNX1gRLuw8thuP37-bzC566Udfa3h81vwbMDtLgO1iedR0fjzWQnJscNjxns7F24oX_j-YjvewZpgfWhE7Vs_k6vZnEWvY4Bt37gh1WeV2ue73StwEIfuSIr3VwaxzSkI6-epn6asQ4fJov1eZeNrVTaXqyxUPrzcS_ecgfltrLAuPvCOZEPxgTpw6bUJQSflk-Td8kMZbzsyEPVcmYavXm3Jpq0HWBkm2hUVZFJn-sHHcIDrlhqbOyEKI-3rhFwqXviCEnCcxM7vZd1GXfsARo4JIDAT7WQ5DBrFbBinqnYanVVG1VYGdBxMHf_8Lt2lrZ15tTHbD5WRZnDOeA2s2DG0-HnTQMpP7exM5crh5oEWBuLPYFj5drx9wevtHS95L3zZRxqnOeZPrbSfD7JEHzKC_EY8bmWvYDK7FZRZHdBnd_Pvaw2U9yEV4x7MHBAXDTHqUi8QU6VuAx-2OxGD5QiUOR0xM73bB0LVOLiU9sIPgz-4A5ZAjzy353LVarf-QBOhOXrRT_sKotI7uBZZa6NEl0a7Wclikbq2Vo9pmyp_0pluG9gZYgR7aP4Tc-HlwbJG8HDuGE5Jeznc-pZsWz6ZtNj96xozSIXst89StkQOhBnqzFWciyXvBQRz081INBnS5dDgrvDTOW2sz9aGJvuGa2hHEjIrN-Hm7MrIMn39xavxh8HZL30FDtdaA3g3nPNfppKLPjdaaQFgXxNtUx8IMm9C3NdIro5F0zJmov-NDEWkfxQvDtIS62ZrJUBpOhswcj7OBsFod1ulMwn_9qGyAzEJ1n9UrHt_b3OGxicxWpLcw.sX-SgpQF5hJ4kguXzFGMgA',\n",
       "  'IdToken': 'eyJraWQiOiJobWxJaTBpZTRUSlpLVmJHQ2JXVjIwdzFxcXNOUHlqb0ZoYXUxTWZTK2k0PSIsImFsZyI6IlJTMjU2In0.eyJzdWIiOiJlZTBiZWRjZi0zYWQ4LTQ0MmEtOGFhYS0wMTU1NzBkYzk1N2UiLCJlbWFpbF92ZXJpZmllZCI6dHJ1ZSwiaXNzIjoiaHR0cHM6XC9cL2NvZ25pdG8taWRwLnVzLWVhc3QtMS5hbWF6b25hd3MuY29tXC91cy1lYXN0LTFfWEV1NGNWdnRLIiwiY29nbml0bzp1c2VybmFtZSI6ImVlMGJlZGNmLTNhZDgtNDQyYS04YWFhLTAxNTU3MGRjOTU3ZSIsImF1ZCI6IjN2MGUzNzd0MXZ0NjlqY3JxZW81ODhobGg1IiwiZXZlbnRfaWQiOiIzMjI5NzdjOS1lMWEzLTRmZjktYWI2MS05N2VhODBkZDk1MDQiLCJ0b2tlbl91c2UiOiJpZCIsImF1dGhfdGltZSI6MTU4Mzk3NzE0MywibmFtZSI6IkF1bnQgQmVhIiwiZXhwIjoxNTgzOTgwNzQzLCJpYXQiOjE1ODM5NzcxNDMsImN1c3RvbTpmYXZvcml0ZV9iYW5kIjoiTGF3ZXJlbmNlIFdlbGsiLCJlbWFpbCI6ImF1bnQuYmVhQGNvbnRiYXkuY29tIn0.SHmSAdUCEReoWMLdc7n_ARF9xvhy9BrL1S63-BNnEQJBht2T6Avd0uO6y1oHf5k0vPv_XsSlWg4cHO_O0dJmaKpeWIfiSSmiPg1j24q7NFczxCAngUS9pHbO10s-IFqb56TSvlaI31FRfF3GZLyILLxq5vsnWehTjl2gi87LeC7XQeh36xZ_IOf3vAvkB1D_xuz0ZHd9zY9QYWuFYU0JnyATH3yyASdXD8Rc3Uy5HmiV_Zr9G06hDcfeG5qsrf58wB-y-lrwtOvbMM3jmPYXSSQc4D0RB8xCisvLvv-PyPAFaq4rJCwheHDs9rw-lhlj41mifdkGI4AmGXwBOpwZJg'},\n",
       " 'ResponseMetadata': {'RequestId': '322977c9-e1a3-4ff9-ab61-97ea80dd9504',\n",
       "  'HTTPStatusCode': 200,\n",
       "  'HTTPHeaders': {'date': 'Thu, 12 Mar 2020 01:39:03 GMT',\n",
       "   'content-type': 'application/x-amz-json-1.1',\n",
       "   'content-length': '3958',\n",
       "   'connection': 'keep-alive',\n",
       "   'x-amzn-requestid': '322977c9-e1a3-4ff9-ab61-97ea80dd9504'},\n",
       "  'RetryAttempts': 0}}"
      ]
     },
     "execution_count": 61,
     "metadata": {},
     "output_type": "execute_result"
    }
   ],
   "source": [
    "login_response"
   ]
  },
  {
   "cell_type": "markdown",
   "metadata": {},
   "source": [
    "Get the IdToken that will be used when making AWS API Gateway calls."
   ]
  },
  {
   "cell_type": "code",
   "execution_count": 62,
   "metadata": {},
   "outputs": [],
   "source": [
    "IdToken = login_response['AuthenticationResult']['IdToken']"
   ]
  },
  {
   "cell_type": "code",
   "execution_count": 63,
   "metadata": {},
   "outputs": [
    {
     "data": {
      "text/plain": [
       "'eyJraWQiOiJobWxJaTBpZTRUSlpLVmJHQ2JXVjIwdzFxcXNOUHlqb0ZoYXUxTWZTK2k0PSIsImFsZyI6IlJTMjU2In0.eyJzdWIiOiJlZTBiZWRjZi0zYWQ4LTQ0MmEtOGFhYS0wMTU1NzBkYzk1N2UiLCJlbWFpbF92ZXJpZmllZCI6dHJ1ZSwiaXNzIjoiaHR0cHM6XC9cL2NvZ25pdG8taWRwLnVzLWVhc3QtMS5hbWF6b25hd3MuY29tXC91cy1lYXN0LTFfWEV1NGNWdnRLIiwiY29nbml0bzp1c2VybmFtZSI6ImVlMGJlZGNmLTNhZDgtNDQyYS04YWFhLTAxNTU3MGRjOTU3ZSIsImF1ZCI6IjN2MGUzNzd0MXZ0NjlqY3JxZW81ODhobGg1IiwiZXZlbnRfaWQiOiIzMjI5NzdjOS1lMWEzLTRmZjktYWI2MS05N2VhODBkZDk1MDQiLCJ0b2tlbl91c2UiOiJpZCIsImF1dGhfdGltZSI6MTU4Mzk3NzE0MywibmFtZSI6IkF1bnQgQmVhIiwiZXhwIjoxNTgzOTgwNzQzLCJpYXQiOjE1ODM5NzcxNDMsImN1c3RvbTpmYXZvcml0ZV9iYW5kIjoiTGF3ZXJlbmNlIFdlbGsiLCJlbWFpbCI6ImF1bnQuYmVhQGNvbnRiYXkuY29tIn0.SHmSAdUCEReoWMLdc7n_ARF9xvhy9BrL1S63-BNnEQJBht2T6Avd0uO6y1oHf5k0vPv_XsSlWg4cHO_O0dJmaKpeWIfiSSmiPg1j24q7NFczxCAngUS9pHbO10s-IFqb56TSvlaI31FRfF3GZLyILLxq5vsnWehTjl2gi87LeC7XQeh36xZ_IOf3vAvkB1D_xuz0ZHd9zY9QYWuFYU0JnyATH3yyASdXD8Rc3Uy5HmiV_Zr9G06hDcfeG5qsrf58wB-y-lrwtOvbMM3jmPYXSSQc4D0RB8xCisvLvv-PyPAFaq4rJCwheHDs9rw-lhlj41mifdkGI4AmGXwBOpwZJg'"
      ]
     },
     "execution_count": 63,
     "metadata": {},
     "output_type": "execute_result"
    }
   ],
   "source": [
    "IdToken"
   ]
  },
  {
   "cell_type": "markdown",
   "metadata": {},
   "source": [
    "Using the Jose JWT library, inspect the claims to see what data is available in the token.  Once this token is passed to a Lambda function, the claims can be used to associate data or actions with a user.  \n",
    "\n",
    "Notice below that since we setup the Cognito User Pool to use email for the Username, Cognito generated a random username for us.  Further processing in the Lambda can use either the cognitor:username or email as the key to perform operations on this users behalf.\n"
   ]
  },
  {
   "cell_type": "code",
   "execution_count": 64,
   "metadata": {},
   "outputs": [
    {
     "data": {
      "text/plain": [
       "{'sub': 'ee0bedcf-3ad8-442a-8aaa-015570dc957e',\n",
       " 'email_verified': True,\n",
       " 'iss': 'https://cognito-idp.us-east-1.amazonaws.com/us-east-1_XEu4cVvtK',\n",
       " 'cognito:username': 'ee0bedcf-3ad8-442a-8aaa-015570dc957e',\n",
       " 'aud': '3v0e377t1vt69jcrqeo588hlh5',\n",
       " 'event_id': '322977c9-e1a3-4ff9-ab61-97ea80dd9504',\n",
       " 'token_use': 'id',\n",
       " 'auth_time': 1583977143,\n",
       " 'name': 'Aunt Bea',\n",
       " 'exp': 1583980743,\n",
       " 'iat': 1583977143,\n",
       " 'custom:favorite_band': 'Lawerence Welk',\n",
       " 'email': 'aunt.bea@contbay.com'}"
      ]
     },
     "execution_count": 64,
     "metadata": {},
     "output_type": "execute_result"
    }
   ],
   "source": [
    "jwt.get_unverified_claims(IdToken)"
   ]
  },
  {
   "cell_type": "code",
   "execution_count": 65,
   "metadata": {},
   "outputs": [],
   "source": [
    "# write token to file to be used later\n",
    "# can be used to verify the tokens do expire, or disabled users can no longer use the tokens.\n",
    "f = open(\"./token.txt\", \"w\")\n",
    "f.write(IdToken)\n",
    "f.close()"
   ]
  },
  {
   "cell_type": "code",
   "execution_count": 66,
   "metadata": {},
   "outputs": [
    {
     "data": {
      "text/plain": [
       "{'sub': 'ee0bedcf-3ad8-442a-8aaa-015570dc957e',\n",
       " 'email_verified': True,\n",
       " 'iss': 'https://cognito-idp.us-east-1.amazonaws.com/us-east-1_XEu4cVvtK',\n",
       " 'cognito:username': 'ee0bedcf-3ad8-442a-8aaa-015570dc957e',\n",
       " 'aud': '3v0e377t1vt69jcrqeo588hlh5',\n",
       " 'event_id': '322977c9-e1a3-4ff9-ab61-97ea80dd9504',\n",
       " 'token_use': 'id',\n",
       " 'auth_time': 1583977143,\n",
       " 'name': 'Aunt Bea',\n",
       " 'exp': 1583980743,\n",
       " 'iat': 1583977143,\n",
       " 'custom:favorite_band': 'Lawerence Welk',\n",
       " 'email': 'aunt.bea@contbay.com'}"
      ]
     },
     "execution_count": 66,
     "metadata": {},
     "output_type": "execute_result"
    }
   ],
   "source": [
    "decode_verify_token(IdToken)"
   ]
  },
  {
   "cell_type": "markdown",
   "metadata": {},
   "source": [
    "### Refresh Token\n"
   ]
  },
  {
   "cell_type": "code",
   "execution_count": 67,
   "metadata": {},
   "outputs": [],
   "source": [
    "refresh_token = login_response['AuthenticationResult']['RefreshToken']"
   ]
  },
  {
   "cell_type": "code",
   "execution_count": 68,
   "metadata": {},
   "outputs": [
    {
     "data": {
      "text/plain": [
       "'eyJjdHkiOiJKV1QiLCJlbmMiOiJBMjU2R0NNIiwiYWxnIjoiUlNBLU9BRVAifQ.GPlhVJgRzmkNd3TY9ALl5nka98XnTnEzbPnDvVo95L0t4obnH9dse1ADVxCoLLL2H9IplzZkNZ3D1dAzRknzXcGsBYbPGKG4lfnJxuK8fHOrgyXnRIOZy3PgF5-sbDB4GpHTwkNJfHseWHNcrifqg14pjacTvb5p5EW8DHAfvOXWTAHavJk2H9z_uSlLY6udvhl2csTkkWbOrkoAc5njBa80RcNJmiqQoKt9kMtDmitb9eEbR_mtJOYJOOL3Yw9YQ7LVAyhbvuBvUWOvgzqwgAIXXXHzErlXpJMdzS2IPlYyAu6KV8zB8rIt-zRUYpzN5m83wjVE3BfdCVXqF78OQA.8VgwM-mC-WFiCvsn.Gg3ZHge_zKuhD_9BOklUSJY2DFmMcWxHIQQKYfN_NxmC64fLaw6_VT944np3rHTfV_nGrnvmwr28le5W-3qkSO9DPbmm6icptcC2e13bSYd7WRoeOT5xOdCITgyyNvoWJqtwfJv581YfNR8E5hU25T-nBqMv0mQen_h-3I0Crz0rIHT2tRt1NlDEelpSpSXUETrL20hjO-ulZl4u-hxHG_QFG3HO3nnFt124E9nvmIQLtB0mkREFzabmZVl4UkUs_c1qcpRSoab9X_NjVolxz9iypTFMuW9l9bDhG4jfC9pmrP-Gl95adco566OqgTiqoX46MPizQQ8co6TQcgCz8I4_2wKuaEi3iVhwmZxOfwI40Abgo9QcdKHwRjCDktW-J063TJg6UYVsiw0F1Da2XBexoHLZrFQ2Xy4dh90bn2PnASu7R49NbkFIH3_MEy8QitF9CfTQ-MWXMZUXcc9aPxR3dWi3G4eb-NJfeBH_SHkc2oVz2CrLgqgWHCCDngRMcn--d4nMewNX1gRLuw8thuP37-bzC566Udfa3h81vwbMDtLgO1iedR0fjzWQnJscNjxns7F24oX_j-YjvewZpgfWhE7Vs_k6vZnEWvY4Bt37gh1WeV2ue73StwEIfuSIr3VwaxzSkI6-epn6asQ4fJov1eZeNrVTaXqyxUPrzcS_ecgfltrLAuPvCOZEPxgTpw6bUJQSflk-Td8kMZbzsyEPVcmYavXm3Jpq0HWBkm2hUVZFJn-sHHcIDrlhqbOyEKI-3rhFwqXviCEnCcxM7vZd1GXfsARo4JIDAT7WQ5DBrFbBinqnYanVVG1VYGdBxMHf_8Lt2lrZ15tTHbD5WRZnDOeA2s2DG0-HnTQMpP7exM5crh5oEWBuLPYFj5drx9wevtHS95L3zZRxqnOeZPrbSfD7JEHzKC_EY8bmWvYDK7FZRZHdBnd_Pvaw2U9yEV4x7MHBAXDTHqUi8QU6VuAx-2OxGD5QiUOR0xM73bB0LVOLiU9sIPgz-4A5ZAjzy353LVarf-QBOhOXrRT_sKotI7uBZZa6NEl0a7Wclikbq2Vo9pmyp_0pluG9gZYgR7aP4Tc-HlwbJG8HDuGE5Jeznc-pZsWz6ZtNj96xozSIXst89StkQOhBnqzFWciyXvBQRz081INBnS5dDgrvDTOW2sz9aGJvuGa2hHEjIrN-Hm7MrIMn39xavxh8HZL30FDtdaA3g3nPNfppKLPjdaaQFgXxNtUx8IMm9C3NdIro5F0zJmov-NDEWkfxQvDtIS62ZrJUBpOhswcj7OBsFod1ulMwn_9qGyAzEJ1n9UrHt_b3OGxicxWpLcw.sX-SgpQF5hJ4kguXzFGMgA'"
      ]
     },
     "execution_count": 68,
     "metadata": {},
     "output_type": "execute_result"
    }
   ],
   "source": [
    "refresh_token"
   ]
  },
  {
   "cell_type": "code",
   "execution_count": 72,
   "metadata": {},
   "outputs": [
    {
     "name": "stdout",
     "output_type": "stream",
     "text": [
      "{'sub': 'ee0bedcf-3ad8-442a-8aaa-015570dc957e', 'email_verified': True, 'iss': 'https://cognito-idp.us-east-1.amazonaws.com/us-east-1_XEu4cVvtK', 'cognito:username': 'ee0bedcf-3ad8-442a-8aaa-015570dc957e', 'aud': '3v0e377t1vt69jcrqeo588hlh5', 'event_id': '322977c9-e1a3-4ff9-ab61-97ea80dd9504', 'token_use': 'id', 'auth_time': 1583977143, 'name': 'Aunt Bea', 'exp': 1583980743, 'iat': 1583977143, 'custom:favorite_band': 'Lawerence Welk', 'email': 'aunt.bea@contbay.com'}\n",
      "ee0bedcf-3ad8-442a-8aaa-015570dc957e\n"
     ]
    }
   ],
   "source": [
    "refresh_response = cognito_refresh_token(IdToken, refresh_token)"
   ]
  },
  {
   "cell_type": "code",
   "execution_count": 73,
   "metadata": {},
   "outputs": [
    {
     "data": {
      "text/plain": [
       "{'ChallengeParameters': {},\n",
       " 'AuthenticationResult': {'AccessToken': 'eyJraWQiOiJvc3I1WWozeE9Ta3h6SHg0UDl1RFQ3a1lxMFQ5Mk9VcnVFa2ltYW5BSGVjPSIsImFsZyI6IlJTMjU2In0.eyJzdWIiOiJlZTBiZWRjZi0zYWQ4LTQ0MmEtOGFhYS0wMTU1NzBkYzk1N2UiLCJldmVudF9pZCI6IjMyMjk3N2M5LWUxYTMtNGZmOS1hYjYxLTk3ZWE4MGRkOTUwNCIsInRva2VuX3VzZSI6ImFjY2VzcyIsInNjb3BlIjoiYXdzLmNvZ25pdG8uc2lnbmluLnVzZXIuYWRtaW4iLCJhdXRoX3RpbWUiOjE1ODM5NzcxNDMsImlzcyI6Imh0dHBzOlwvXC9jb2duaXRvLWlkcC51cy1lYXN0LTEuYW1hem9uYXdzLmNvbVwvdXMtZWFzdC0xX1hFdTRjVnZ0SyIsImV4cCI6MTU4Mzk4MDg1MiwiaWF0IjoxNTgzOTc3MjUyLCJqdGkiOiJmMTVlZjNlNS04MTVhLTRlOWUtYWVhZi1kMGEwMzUzMDU2MTgiLCJjbGllbnRfaWQiOiIzdjBlMzc3dDF2dDY5amNycWVvNTg4aGxoNSIsInVzZXJuYW1lIjoiZWUwYmVkY2YtM2FkOC00NDJhLThhYWEtMDE1NTcwZGM5NTdlIn0.mEYLLIBk2IG2x0w6ONsW56_XG3CPG6AEATLxe-dAGQBRWeHOoJwE7bMQQe3n7ANAc0UCkpCXmW9A2oPLOm-OisGWOfuw2sDMXgFhpEMEXpbbtwizQJjCKGkWOAvklUSa0OfeIu1NF30S77pUf26bpsUh7XhVFkRla8R5uYUYoeJVVkn3Djf-S4KpRbgFjU9PhFJD8OeFQiC37wUUhHjPLDXAxXW_mH1NHYuKt9tBlkdFlgRXI8-Fb1RcxAiMnusomVuNa45oWVfZ_wsduiKfnYkH5EI3jNjKuSOhPifm7IReNp31nCWIF9Of-AcA9ok5q71xklp2D9VphCOmdgMbOQ',\n",
       "  'ExpiresIn': 3600,\n",
       "  'TokenType': 'Bearer',\n",
       "  'IdToken': 'eyJraWQiOiJobWxJaTBpZTRUSlpLVmJHQ2JXVjIwdzFxcXNOUHlqb0ZoYXUxTWZTK2k0PSIsImFsZyI6IlJTMjU2In0.eyJzdWIiOiJlZTBiZWRjZi0zYWQ4LTQ0MmEtOGFhYS0wMTU1NzBkYzk1N2UiLCJlbWFpbF92ZXJpZmllZCI6dHJ1ZSwiaXNzIjoiaHR0cHM6XC9cL2NvZ25pdG8taWRwLnVzLWVhc3QtMS5hbWF6b25hd3MuY29tXC91cy1lYXN0LTFfWEV1NGNWdnRLIiwiY29nbml0bzp1c2VybmFtZSI6ImVlMGJlZGNmLTNhZDgtNDQyYS04YWFhLTAxNTU3MGRjOTU3ZSIsImF1ZCI6IjN2MGUzNzd0MXZ0NjlqY3JxZW81ODhobGg1IiwiZXZlbnRfaWQiOiIzMjI5NzdjOS1lMWEzLTRmZjktYWI2MS05N2VhODBkZDk1MDQiLCJ0b2tlbl91c2UiOiJpZCIsImF1dGhfdGltZSI6MTU4Mzk3NzE0MywibmFtZSI6IkF1bnQgQmVhIiwiZXhwIjoxNTgzOTgwODUyLCJpYXQiOjE1ODM5NzcyNTIsImN1c3RvbTpmYXZvcml0ZV9iYW5kIjoiTGF3ZXJlbmNlIFdlbGsiLCJlbWFpbCI6ImF1bnQuYmVhQGNvbnRiYXkuY29tIn0.WTrgYYQgeDJdSpMw6z5MOP8xP1wuw5d1z06in7eMIV3R2eDRiHJLWfeqPGr3ddydZ4dm7A0y2GtLWkSQ02FFDnOyRupEpL5o3NLD9iJWJ-ZuNIwm9F00BTOGkvPW2fFc_W9o92cKFQxlr0gH1k7ri7xT5hrxI8TRWo8yC2nMj7aJ8xdcHDyeqWRH63NoMvvXPZ9hb0qXpDW-C4dNlIAXRm3SkLZjsvU7VsrPNlN_8vvjgPGVCn3DVmpUzhWJNvyFDr6mlA_USPHRBif7cczqAwf41NP_lkQjpCu7s8fwwrlS2Bw_tq18M72OoWD9WTQHK7PvIM1Of8mSArkqDthdiA'},\n",
       " 'ResponseMetadata': {'RequestId': '5bbee701-35c4-4421-b42f-84d5e4addcf2',\n",
       "  'HTTPStatusCode': 200,\n",
       "  'HTTPHeaders': {'date': 'Thu, 12 Mar 2020 01:40:52 GMT',\n",
       "   'content-type': 'application/x-amz-json-1.1',\n",
       "   'content-length': '2155',\n",
       "   'connection': 'keep-alive',\n",
       "   'x-amzn-requestid': '5bbee701-35c4-4421-b42f-84d5e4addcf2'},\n",
       "  'RetryAttempts': 0}}"
      ]
     },
     "execution_count": 73,
     "metadata": {},
     "output_type": "execute_result"
    }
   ],
   "source": [
    "refresh_response"
   ]
  },
  {
   "cell_type": "markdown",
   "metadata": {},
   "source": [
    "## POST request to API Gateway"
   ]
  },
  {
   "cell_type": "code",
   "execution_count": 74,
   "metadata": {},
   "outputs": [],
   "source": [
    "api_gateway_url = os.getenv('AWS_API_GATEWAY_URL')"
   ]
  },
  {
   "cell_type": "code",
   "execution_count": 75,
   "metadata": {},
   "outputs": [],
   "source": [
    "response = requests.post(api_gateway_url, headers={\"token\":\"bad token\"}, data={\"foo\":\"bar\"})"
   ]
  },
  {
   "cell_type": "code",
   "execution_count": 76,
   "metadata": {},
   "outputs": [
    {
     "data": {
      "text/plain": [
       "b'{\"message\":\"Unauthorized\"}'"
      ]
     },
     "execution_count": 76,
     "metadata": {},
     "output_type": "execute_result"
    }
   ],
   "source": [
    "# This should result in a message like:\n",
    "# {\"message\":\"Unauthorized\"}\n",
    "response.content"
   ]
  },
  {
   "cell_type": "code",
   "execution_count": 77,
   "metadata": {},
   "outputs": [],
   "source": [
    "response = requests.post(api_gateway_url, headers={\"token\":IdToken}, json={\"note\":\"buy milk on way home\"})"
   ]
  },
  {
   "cell_type": "code",
   "execution_count": 78,
   "metadata": {},
   "outputs": [
    {
     "data": {
      "text/plain": [
       "<Response [200]>"
      ]
     },
     "execution_count": 78,
     "metadata": {},
     "output_type": "execute_result"
    }
   ],
   "source": [
    "response"
   ]
  },
  {
   "cell_type": "code",
   "execution_count": 79,
   "metadata": {},
   "outputs": [
    {
     "data": {
      "text/plain": [
       "b'\"Add Note for email: aunt.bea@contbay.com. Success\"'"
      ]
     },
     "execution_count": 79,
     "metadata": {},
     "output_type": "execute_result"
    }
   ],
   "source": [
    "response.content"
   ]
  }
 ],
 "metadata": {
  "kernelspec": {
   "display_name": "Python 3",
   "language": "python",
   "name": "python3"
  },
  "language_info": {
   "codemirror_mode": {
    "name": "ipython",
    "version": 3
   },
   "file_extension": ".py",
   "mimetype": "text/x-python",
   "name": "python",
   "nbconvert_exporter": "python",
   "pygments_lexer": "ipython3",
   "version": "3.6.3"
  }
 },
 "nbformat": 4,
 "nbformat_minor": 4
}
